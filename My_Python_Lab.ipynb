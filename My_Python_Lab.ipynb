{
  "nbformat": 4,
  "nbformat_minor": 0,
  "metadata": {
    "colab": {
      "name": "My_Python_Lab.ipynb",
      "provenance": [],
      "authorship_tag": "ABX9TyMMyFQYGvUoatX9oiPZMxyn",
      "include_colab_link": true
    },
    "kernelspec": {
      "name": "python3",
      "display_name": "Python 3"
    }
  },
  "cells": [
    {
      "cell_type": "markdown",
      "metadata": {
        "id": "view-in-github",
        "colab_type": "text"
      },
      "source": [
        "<a href=\"https://colab.research.google.com/github/arsivrep/My_Workspace/blob/master/My_Python_Lab.ipynb\" target=\"_parent\"><img src=\"https://colab.research.google.com/assets/colab-badge.svg\" alt=\"Open In Colab\"/></a>"
      ]
    },
    {
      "cell_type": "code",
      "metadata": {
        "id": "w9qGZSJmdsct",
        "colab_type": "code",
        "colab": {
          "base_uri": "https://localhost:8080/",
          "height": 430
        },
        "outputId": "d3976ffe-d1f5-4195-d978-33c2de3e2a92"
      },
      "source": [
        "#To calculate permutations and combinations\n",
        "import itertools\n",
        "for p in itertools.permutations('ABCD'):\n",
        "  print(p)"
      ],
      "execution_count": null,
      "outputs": [
        {
          "output_type": "stream",
          "text": [
            "('A', 'B', 'C', 'D')\n",
            "('A', 'B', 'D', 'C')\n",
            "('A', 'C', 'B', 'D')\n",
            "('A', 'C', 'D', 'B')\n",
            "('A', 'D', 'B', 'C')\n",
            "('A', 'D', 'C', 'B')\n",
            "('B', 'A', 'C', 'D')\n",
            "('B', 'A', 'D', 'C')\n",
            "('B', 'C', 'A', 'D')\n",
            "('B', 'C', 'D', 'A')\n",
            "('B', 'D', 'A', 'C')\n",
            "('B', 'D', 'C', 'A')\n",
            "('C', 'A', 'B', 'D')\n",
            "('C', 'A', 'D', 'B')\n",
            "('C', 'B', 'A', 'D')\n",
            "('C', 'B', 'D', 'A')\n",
            "('C', 'D', 'A', 'B')\n",
            "('C', 'D', 'B', 'A')\n",
            "('D', 'A', 'B', 'C')\n",
            "('D', 'A', 'C', 'B')\n",
            "('D', 'B', 'A', 'C')\n",
            "('D', 'B', 'C', 'A')\n",
            "('D', 'C', 'A', 'B')\n",
            "('D', 'C', 'B', 'A')\n"
          ],
          "name": "stdout"
        }
      ]
    },
    {
      "cell_type": "code",
      "metadata": {
        "id": "u_3njxYror48",
        "colab_type": "code",
        "colab": {
          "base_uri": "https://localhost:8080/",
          "height": 51
        },
        "outputId": "0bebe1a8-cd29-4a5e-f8a3-3769bcee34b4"
      },
      "source": [
        "from datetime import date\n",
        "\n",
        "print(str(date.today()))\n",
        "print(repr(date.today()))"
      ],
      "execution_count": 7,
      "outputs": [
        {
          "output_type": "stream",
          "text": [
            "2020-07-27\n",
            "datetime.date(2020, 7, 27)\n"
          ],
          "name": "stdout"
        }
      ]
    },
    {
      "cell_type": "code",
      "metadata": {
        "id": "IS_EurB_owph",
        "colab_type": "code",
        "colab": {
          "base_uri": "https://localhost:8080/",
          "height": 34
        },
        "outputId": "c4f76bad-505d-4fe9-ca27-3c8987a9f3e1"
      },
      "source": [
        "# Merging two dictionaries with single statement\n",
        "\n",
        "x = {'a': 1, 'b': 2}\n",
        "y = {'b': 3, 'c': 4}\n",
        "\n",
        "z = {**x,**y}\n",
        "z\n",
        "#In these examples, Python merges dictionary keys in the order listed in the expression, overwriting duplicates from left to right."
      ],
      "execution_count": 9,
      "outputs": [
        {
          "output_type": "execute_result",
          "data": {
            "text/plain": [
              "{'a': 1, 'b': 3, 'c': 4}"
            ]
          },
          "metadata": {
            "tags": []
          },
          "execution_count": 9
        }
      ]
    },
    {
      "cell_type": "code",
      "metadata": {
        "id": "ZIVjoJ1ipms2",
        "colab_type": "code",
        "colab": {
          "base_uri": "https://localhost:8080/",
          "height": 69
        },
        "outputId": "faa76773-6374-4d5b-b79d-9ecdc398ca03"
      },
      "source": [
        "# Tuple Unpacking\n",
        "x,y,z = 0,1,0\n",
        "\n",
        "if x or y or z:\n",
        "  print(1)\n",
        "\n",
        "if 1 in (x,y,z):\n",
        "  print(2)\n",
        "\n",
        "if any((x,y,z)):\n",
        "  print(3)"
      ],
      "execution_count": 13,
      "outputs": [
        {
          "output_type": "stream",
          "text": [
            "1\n",
            "2\n",
            "3\n"
          ],
          "name": "stdout"
        }
      ]
    },
    {
      "cell_type": "code",
      "metadata": {
        "id": "ibtoKlP2qw0d",
        "colab_type": "code",
        "colab": {
          "base_uri": "https://localhost:8080/",
          "height": 275
        },
        "outputId": "31b53215-8db8-4ad4-83b5-6ace0ba5929d"
      },
      "source": [
        "# How to sort a Python dict by value\n",
        "\n",
        "xs = {'z': 4, 'b': 3, 'c': 2, 'd': 1}\n",
        "\n",
        "print(xs.keys())\n",
        "print(xs.items())\n",
        "print(sorted(xs.items())) # Sort by Keys, same as lambda x : x[0]\n",
        "print(sorted(xs.items(), key = lambda x : x[1])) # Sort by values in ascending order\n",
        "print(sorted(xs.items(), key = lambda x : x[1],reverse = True)) # Sort by values in ascending order\n",
        "\n",
        "from collections import OrderedDict\n",
        "print('\\n')\n",
        "print(OrderedDict(xs.items()))\n",
        "print(OrderedDict(xs.items(),reverse=True))\n",
        "\n",
        "print('\\n')\n",
        "for k,v in sorted(xs.items(), key = lambda x : x[1]):\n",
        "  print(k, v)"
      ],
      "execution_count": 38,
      "outputs": [
        {
          "output_type": "stream",
          "text": [
            "dict_keys(['z', 'b', 'c', 'd'])\n",
            "dict_items([('z', 4), ('b', 3), ('c', 2), ('d', 1)])\n",
            "[('b', 3), ('c', 2), ('d', 1), ('z', 4)]\n",
            "[('d', 1), ('c', 2), ('b', 3), ('z', 4)]\n",
            "[('z', 4), ('b', 3), ('c', 2), ('d', 1)]\n",
            "\n",
            "\n",
            "OrderedDict([('z', 4), ('b', 3), ('c', 2), ('d', 1)])\n",
            "OrderedDict([('z', 4), ('b', 3), ('c', 2), ('d', 1), ('reverse', True)])\n",
            "\n",
            "\n",
            "d 1\n",
            "c 2\n",
            "b 3\n",
            "z 4\n"
          ],
          "name": "stdout"
        }
      ]
    },
    {
      "cell_type": "code",
      "metadata": {
        "id": "tKIRDdcCriFG",
        "colab_type": "code",
        "colab": {}
      },
      "source": [
        ""
      ],
      "execution_count": null,
      "outputs": []
    }
  ]
}